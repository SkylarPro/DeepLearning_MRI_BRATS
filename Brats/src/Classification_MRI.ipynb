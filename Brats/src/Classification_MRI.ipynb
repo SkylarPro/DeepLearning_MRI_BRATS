{
 "cells": [
  {
   "cell_type": "code",
   "execution_count": 2,
   "id": "popular-plastic",
   "metadata": {},
   "outputs": [],
   "source": [
    "import numpy as np\n",
    "import os\n",
    "import pandas as pd\n",
    "from itkwidgets import view\n",
    "#!pip install tensorboard\n",
    "from torch.utils.tensorboard import SummaryWriter\n",
    "from torch.hub import load_state_dict_from_url\n",
    "\n",
    "from torch.optim import lr_scheduler\n",
    "\n",
    "from tqdm import tqdm\n"
   ]
  },
  {
   "cell_type": "code",
   "execution_count": 3,
   "id": "directed-intensity",
   "metadata": {},
   "outputs": [],
   "source": [
    "path_to_HGG = \"{}/MICCAI_BraTS_2019_Data_Training/HGG/\".format(os.getcwd())\n",
    "path_to_LGG = \"{}/MICCAI_BraTS_2019_Data_Training/LGG/\".format(os.getcwd())\n",
    "root_dir = \"MICCAI_BraTS_2019_Data_Training\"\n",
    "name_map = {\"train\":\"Train_DS.csv\",\"test\":\"Test_DS.csv\"}\n",
    "path_to_survival = \"{}/MICCAI_BraTS_2019_Data_Training/survival_data.csv\".format(os.getcwd())\n",
    "types_file = [\"_flair.nii.gz\",\"_t1.nii.gz\",\"_t1ce.nii.gz\",\"_t2.nii.gz\"]"
   ]
  },
  {
   "cell_type": "code",
   "execution_count": 4,
   "id": "interested-family",
   "metadata": {
    "scrolled": true
   },
   "outputs": [
    {
     "data": {
      "text/plain": [
       "\"\\nname_map = pd.read_csv(path_to_name_map,delimiter=',') \\nsurvival_data = pd.read_csv(path_to_survival,delimiter=',') \\nname_map = name_map.drop(['BraTS_2017_subject_ID','BraTS_2018_subject_ID','TCGA_TCIA_subject_ID'], 1)\\nname_map.to_csv('Name_and_tag.csv')\\n\""
      ]
     },
     "execution_count": 4,
     "metadata": {},
     "output_type": "execute_result"
    }
   ],
   "source": [
    "\"\"\"\n",
    "name_map = pd.read_csv(path_to_name_map,delimiter=',') \n",
    "survival_data = pd.read_csv(path_to_survival,delimiter=',') \n",
    "name_map = name_map.drop(['BraTS_2017_subject_ID','BraTS_2018_subject_ID','TCGA_TCIA_subject_ID'], 1)\n",
    "name_map.to_csv('Name_and_tag.csv')\n",
    "\"\"\""
   ]
  },
  {
   "cell_type": "code",
   "execution_count": 5,
   "id": "proper-mozambique",
   "metadata": {},
   "outputs": [],
   "source": [
    "#!pip install torch torchvision torchaudio\n",
    "#!pip install torchio\n",
    "import torch\n",
    "from torch.utils.data import Dataset, DataLoader\n",
    "import nibabel as nib\n",
    "import matplotlib as plt\n",
    "import seaborn as sns\n",
    "from skimage import io\n",
    "\n",
    "from itkwidgets import view\n",
    "device = torch.device(\"cuda:0\")\n",
    "import torchio as tio"
   ]
  },
  {
   "cell_type": "code",
   "execution_count": 6,
   "id": "preceding-circular",
   "metadata": {},
   "outputs": [],
   "source": [
    "from torch.utils.data import Dataset, DataLoader\n",
    "import random\n",
    "import matplotlib.pyplot as plt\n",
    "from torch import nn, optim\n",
    "from torch.autograd import Variable\n",
    "from torch.utils.data.sampler import SubsetRandomSampler\n",
    "from sklearn.metrics import classification_report, confusion_matrix,jaccard_score, accuracy_score,f1_score,average_precision_score\n",
    "from PIL import Image\n",
    "from skimage import io, transform\n",
    "import torch.utils.data as data_utils\n",
    "from torch.optim.lr_scheduler import StepLR\n",
    "import torch.nn.functional as F\n",
    "from torchvision import datasets, transforms,models\n",
    "import torchvision\n",
    "from sklearn.model_selection import train_test_split"
   ]
  },
  {
   "cell_type": "code",
   "execution_count": 7,
   "id": "banned-alaska",
   "metadata": {},
   "outputs": [
    {
     "name": "stdout",
     "output_type": "stream",
     "text": [
      "68\n",
      "126\n"
     ]
    }
   ],
   "source": [
    "\n",
    "temp = pd.read_csv(\"Name_and_tag.csv\",delimiter=',')\n",
    "len_hgg = len(temp[temp[\"Grade\"]==\"HGG\"])\n",
    "len_lgg = len(temp[temp[\"Grade\"]==\"LGG\"])\n",
    "\n",
    "\n",
    "\n",
    "split_size = 0.80\n",
    "ovsempl = 1.10\n",
    "\n",
    "tmp_hgg = temp[int(len_hgg*split_size):len_hgg]\n",
    "tmp_lgg = temp[len_hgg + int(len_lgg*split_size):(len_hgg+len_lgg)]\n",
    "tmp_lgg = tmp_lgg.drop('Unnamed: 0', 1)\n",
    "tmp_hgg = tmp_hgg.drop('Unnamed: 0', 1)\n",
    "tmp_hgg = tmp_hgg.to_dict()\n",
    "tmp_lgg = tmp_lgg.to_dict()\n",
    "tmp_hgg['Grade'].update(tmp_lgg['Grade'])\n",
    "tmp_hgg['BraTS_2019_subject_ID'].update(tmp_lgg['BraTS_2019_subject_ID'])\n",
    "test_data = pd.DataFrame.from_dict(tmp_hgg)\n",
    "print(len(test_data))\n",
    "test_data.to_csv('Test_DS.csv')\n",
    "\n",
    "\n",
    " \n",
    "tmp_hgg = temp[:int(len_lgg*ovsempl*split_size)] #tmp_hgg = temp[:int(len_hgg*split_size)]\n",
    "tmp_lgg = temp[len_hgg:len_hgg+int(len_lgg*split_size)]\n",
    "tmp_lgg = tmp_lgg.drop('Unnamed: 0', 1)\n",
    "tmp_hgg = tmp_hgg.drop('Unnamed: 0', 1)\n",
    "tmp_hgg = tmp_hgg.to_dict()\n",
    "tmp_lgg = tmp_lgg.to_dict()\n",
    "tmp_hgg['Grade'].update(tmp_lgg['Grade'])\n",
    "tmp_hgg['BraTS_2019_subject_ID'].update(tmp_lgg['BraTS_2019_subject_ID'])\n",
    "test_data = pd.DataFrame.from_dict(tmp_hgg)\n",
    "print(len(test_data))\n",
    "test_data.to_csv('Train_DS.csv')"
   ]
  },
  {
   "cell_type": "code",
   "execution_count": 8,
   "id": "ancient-australian",
   "metadata": {},
   "outputs": [
    {
     "data": {
      "text/html": [
       "<div>\n",
       "<style scoped>\n",
       "    .dataframe tbody tr th:only-of-type {\n",
       "        vertical-align: middle;\n",
       "    }\n",
       "\n",
       "    .dataframe tbody tr th {\n",
       "        vertical-align: top;\n",
       "    }\n",
       "\n",
       "    .dataframe thead th {\n",
       "        text-align: right;\n",
       "    }\n",
       "</style>\n",
       "<table border=\"1\" class=\"dataframe\">\n",
       "  <thead>\n",
       "    <tr style=\"text-align: right;\">\n",
       "      <th></th>\n",
       "      <th>Grade</th>\n",
       "      <th>BraTS_2019_subject_ID</th>\n",
       "    </tr>\n",
       "  </thead>\n",
       "  <tbody>\n",
       "    <tr>\n",
       "      <th>0</th>\n",
       "      <td>HGG</td>\n",
       "      <td>BraTS19_CBICA_AAB_1</td>\n",
       "    </tr>\n",
       "    <tr>\n",
       "      <th>1</th>\n",
       "      <td>HGG</td>\n",
       "      <td>BraTS19_CBICA_AAG_1</td>\n",
       "    </tr>\n",
       "    <tr>\n",
       "      <th>2</th>\n",
       "      <td>HGG</td>\n",
       "      <td>BraTS19_CBICA_AAL_1</td>\n",
       "    </tr>\n",
       "    <tr>\n",
       "      <th>3</th>\n",
       "      <td>HGG</td>\n",
       "      <td>BraTS19_CBICA_AAP_1</td>\n",
       "    </tr>\n",
       "    <tr>\n",
       "      <th>4</th>\n",
       "      <td>HGG</td>\n",
       "      <td>BraTS19_CBICA_ABB_1</td>\n",
       "    </tr>\n",
       "    <tr>\n",
       "      <th>...</th>\n",
       "      <td>...</td>\n",
       "      <td>...</td>\n",
       "    </tr>\n",
       "    <tr>\n",
       "      <th>314</th>\n",
       "      <td>LGG</td>\n",
       "      <td>BraTS19_TCIA10_632_1</td>\n",
       "    </tr>\n",
       "    <tr>\n",
       "      <th>315</th>\n",
       "      <td>LGG</td>\n",
       "      <td>BraTS19_TCIA10_637_1</td>\n",
       "    </tr>\n",
       "    <tr>\n",
       "      <th>316</th>\n",
       "      <td>LGG</td>\n",
       "      <td>BraTS19_TCIA12_470_1</td>\n",
       "    </tr>\n",
       "    <tr>\n",
       "      <th>317</th>\n",
       "      <td>LGG</td>\n",
       "      <td>BraTS19_TCIA12_480_1</td>\n",
       "    </tr>\n",
       "    <tr>\n",
       "      <th>318</th>\n",
       "      <td>LGG</td>\n",
       "      <td>BraTS19_TCIA12_298_1</td>\n",
       "    </tr>\n",
       "  </tbody>\n",
       "</table>\n",
       "<p>126 rows × 2 columns</p>\n",
       "</div>"
      ],
      "text/plain": [
       "    Grade BraTS_2019_subject_ID\n",
       "0     HGG   BraTS19_CBICA_AAB_1\n",
       "1     HGG   BraTS19_CBICA_AAG_1\n",
       "2     HGG   BraTS19_CBICA_AAL_1\n",
       "3     HGG   BraTS19_CBICA_AAP_1\n",
       "4     HGG   BraTS19_CBICA_ABB_1\n",
       "..    ...                   ...\n",
       "314   LGG  BraTS19_TCIA10_632_1\n",
       "315   LGG  BraTS19_TCIA10_637_1\n",
       "316   LGG  BraTS19_TCIA12_470_1\n",
       "317   LGG  BraTS19_TCIA12_480_1\n",
       "318   LGG  BraTS19_TCIA12_298_1\n",
       "\n",
       "[126 rows x 2 columns]"
      ]
     },
     "execution_count": 8,
     "metadata": {},
     "output_type": "execute_result"
    }
   ],
   "source": [
    "test_data"
   ]
  },
  {
   "cell_type": "code",
   "execution_count": 9,
   "id": "reasonable-eagle",
   "metadata": {},
   "outputs": [],
   "source": [
    "def plot_class_histogram(markup_map, title=None):\n",
    "    ax = sns.catplot(x='Grade', data=markup_map, kind=\"count\", palette=\"ch:.25\")\n",
    "    ax.fig.suptitle(title or 'Распределение классов повреждений')\n",
    "    ax.fig.set_size_inches(10,5)\n",
    "    #plt.ylim(0, markup_map.ClassId.value_counts().max() + 100)\n",
    "    #plt.show()"
   ]
  },
  {
   "cell_type": "code",
   "execution_count": 10,
   "id": "clean-approval",
   "metadata": {},
   "outputs": [
    {
     "data": {
      "image/png": "[encoded data removed]",
      "text/plain": [
       "<Figure size 720x360 with 1 Axes>"
      ]
     },
     "metadata": {
      "needs_background": "light"
     },
     "output_type": "display_data"
    }
   ],
   "source": [
    "plot_class_histogram(test_data, title='BRATS 2019 DataSet normalization')"
   ]
  },
  {
   "cell_type": "code",
   "execution_count": 43,
   "id": "solved-classification",
   "metadata": {},
   "outputs": [],
   "source": [
    "class BratsDataset(Dataset):\n",
    "    \n",
    "    def __init__(self, csv_file , root_dir,types_file, transform1=None, transform2 = None, aug_k = 1):\n",
    "        self.labels_frame = pd.read_csv(csv_file,delimiter=',')\n",
    "        self.root_dir = root_dir\n",
    "        self.transform_aug = transform1\n",
    "        self.transform_w_0_aug = transform2\n",
    "        self.types_file = types_file\n",
    "        self.lenn = len(self.labels_frame)\n",
    "        self.aug_k = aug_k\n",
    "        \n",
    "    def __len__(self):\n",
    "        return len(self.labels_frame) * self.aug_k \n",
    "        \n",
    "    def __getitem__(self,idx):\n",
    "        \n",
    "        checker = True if idx >= self.lenn else False\n",
    "        \n",
    "        idx %= self.lenn\n",
    "        idx = int(idx)\n",
    "        \n",
    "        if torch.is_tensor(idx):\n",
    "            idx = idx.to_list()\n",
    "        img_name = os.path.join(self.root_dir, self.labels_frame.iloc[idx,1],self.labels_frame.iloc[idx,2],\n",
    "                                \"{}{}\".format(self.labels_frame.iloc[idx,2],self.types_file))\n",
    "        img = nib.load(img_name)\n",
    "        img = np.array(img.dataobj)\n",
    "        img = torch.from_numpy(img)\n",
    "        img = img.unsqueeze(0)\n",
    "        img = img.repeat(3,1,1,1)\n",
    "        img = img.type(torch.FloatTensor)\n",
    "        \n",
    "        label = self.labels_frame.iloc[idx, 1]\n",
    "           \n",
    "        label = 0 if label == \"HGG\" else 1\n",
    "        label = np.array([label])\n",
    "        label = torch.from_numpy(label)\n",
    "        label = label.type(torch.LongTensor)\n",
    "        \n",
    "        if self.transform_aug and checker:\n",
    "            img = self.transform_aug(img)\n",
    "            \n",
    "        elif self.transform_w_0_aug:\n",
    "            img = self.transform_w_0_aug(img)\n",
    "        \n",
    "            \n",
    "        img = img.type(torch.FloatTensor)    \n",
    "        return img, label"
   ]
  },
  {
   "cell_type": "code",
   "execution_count": 12,
   "id": "adverse-failure",
   "metadata": {},
   "outputs": [
    {
     "name": "stdout",
     "output_type": "stream",
     "text": [
      "66 60\n"
     ]
    }
   ],
   "source": [
    "print(len(test_data[test_data[\"Grade\"] == \"HGG\"]), len(test_data[test_data[\"Grade\"] == \"LGG\"]))"
   ]
  },
  {
   "cell_type": "code",
   "execution_count": null,
   "id": "failing-tenant",
   "metadata": {},
   "outputs": [],
   "source": [
    "std_aug = 0.015"
   ]
  },
  {
   "cell_type": "code",
   "execution_count": 44,
   "id": "attempted-syndication",
   "metadata": {},
   "outputs": [],
   "source": [
    "#https://torchio.readthedocs.io/data/subject.html\n",
    "transform1 = transforms.Compose(\n",
    "        [\n",
    "            \n",
    "            lambda x: (x-x.min())/(x.max()-x.min()), #2*((x-x.min())/(x.max()-x.min())) - 1,\n",
    "            #lambda x: x[np.newaxis, :, :, :],\n",
    "            lambda x: x + np.random.normal(x.mean(), std_aug, x.shape),\n",
    "#             lambda x: torch.tensor(x, dtype=torch.float32) ,\n",
    "            lambda x: x.detach().clone(),\n",
    "            \n",
    "#           \n",
    "        ]\n",
    "    )"
   ]
  },
  {
   "cell_type": "code",
   "execution_count": 45,
   "id": "protective-hotel",
   "metadata": {},
   "outputs": [],
   "source": [
    "transform2 = transforms.Compose(\n",
    "        [\n",
    "            \n",
    "            lambda x: (x-x.min())/(x.max()-x.min()), #2*((x-x.min())/(x.max()-x.min())) - 1,\n",
    "            #lambda x: x[np.newaxis, :, :, :],\n",
    "#             lambda x: x + np.random.normal(x.mean(), 0.005, x.shape),\n",
    "#             lambda x: torch.tensor(x, dtype=torch.float32),\n",
    "            lambda x: x.detach().clone(),\n",
    "            \n",
    "#           \n",
    "        ]\n",
    "    )"
   ]
  },
  {
   "cell_type": "code",
   "execution_count": 46,
   "id": "small-essence",
   "metadata": {},
   "outputs": [],
   "source": [
    "brain_train = BratsDataset(csv_file = name_map[\"train\"],root_dir = root_dir,types_file = types_file[1],transform1= transform1,transform2=transform2)\n",
    "brain_test = BratsDataset(csv_file = name_map[\"test\"],root_dir = root_dir,types_file = types_file[1],transform1=transform1,transform2=transform2 )\n"
   ]
  },
  {
   "cell_type": "code",
   "execution_count": 21,
   "id": "selected-thread",
   "metadata": {},
   "outputs": [
    {
     "data": {
      "image/png": "[encoded data removed]",
      "text/plain": [
       "<Figure size 432x288 with 1 Axes>"
      ]
     },
     "metadata": {
      "needs_background": "light"
     },
     "output_type": "display_data"
    }
   ],
   "source": [
    "plt.hist(np.array(brain_train[126][0]).ravel(), bins=50, density=True);"
   ]
  },
  {
   "cell_type": "code",
   "execution_count": 22,
   "id": "fluid-ontario",
   "metadata": {},
   "outputs": [
    {
     "data": {
      "image/png": "[encoded data removed]",
      "text/plain": [
       "<Figure size 432x288 with 1 Axes>"
      ]
     },
     "metadata": {
      "needs_background": "light"
     },
     "output_type": "display_data"
    }
   ],
   "source": [
    "plt.hist(np.array(brain_train[0][0]).ravel(), bins=50, density=True);"
   ]
  },
  {
   "cell_type": "code",
   "execution_count": 23,
   "id": "intelligent-bowling",
   "metadata": {},
   "outputs": [],
   "source": [
    "def show_landmarks(image, landmarks):\n",
    "    \"\"\"Show image with landmarks\"\"\"\n",
    "#   view(image[0,:,:,:])\n",
    "    plt.figure(figsize=(30, 3))\n",
    "    plt.subplot(1, 1,1)\n",
    "    plt.grid(False)\n",
    "    plt.imshow(image[0,:,:,95])\n",
    "    plt.axis('off')\n",
    "    print(landmarks)\n"
   ]
  },
  {
   "cell_type": "code",
   "execution_count": 28,
   "id": "iraqi-concentrate",
   "metadata": {},
   "outputs": [],
   "source": [
    "no_aug_ex = brain_train[0]"
   ]
  },
  {
   "cell_type": "code",
   "execution_count": 30,
   "id": "latin-venice",
   "metadata": {},
   "outputs": [
    {
     "name": "stdout",
     "output_type": "stream",
     "text": [
      "tensor([0])\n"
     ]
    },
    {
     "data": {
      "image/png": "[encoded data removed]",
      "text/plain": [
       "<Figure size 2160x216 with 1 Axes>"
      ]
     },
     "metadata": {
      "needs_background": "light"
     },
     "output_type": "display_data"
    }
   ],
   "source": [
    "show_landmarks(no_aug_ex[0],no_aug_ex[1])"
   ]
  },
  {
   "cell_type": "code",
   "execution_count": 31,
   "id": "solved-haiti",
   "metadata": {},
   "outputs": [],
   "source": [
    "aug_ex = brain_train[126]"
   ]
  },
  {
   "cell_type": "code",
   "execution_count": 32,
   "id": "eligible-asthma",
   "metadata": {},
   "outputs": [
    {
     "name": "stdout",
     "output_type": "stream",
     "text": [
      "tensor([0])\n"
     ]
    },
    {
     "data": {
      "image/png": "[encoded data removed]",
      "text/plain": [
       "<Figure size 2160x216 with 1 Axes>"
      ]
     },
     "metadata": {
      "needs_background": "light"
     },
     "output_type": "display_data"
    }
   ],
   "source": [
    "show_landmarks(aug_ex[0],aug_ex[1])"
   ]
  },
  {
   "cell_type": "code",
   "execution_count": 47,
   "id": "looking-infrared",
   "metadata": {},
   "outputs": [],
   "source": [
    "def sempler(data_train, batch_size = 4,split = .8):\n",
    "    \n",
    "    data_size = len(data_train)\n",
    "\n",
    "    validation_split = split\n",
    "    split = int(np.floor(validation_split * data_size))\n",
    "    indices = list(range(data_size))\n",
    "    np.random.shuffle(indices)\n",
    "\n",
    "    train_indices,val_indices = indices[split:],indices[:split]\n",
    "\n",
    "    train_sampler = SubsetRandomSampler(train_indices)\n",
    "    val_sampler = SubsetRandomSampler(val_indices)\n",
    "    \n",
    "\n",
    "    train_loader = torch.utils.data.DataLoader(data_train, batch_size=batch_size,\n",
    "                                                   sampler=train_sampler,)\n",
    "    \n",
    "    val_loader = torch.utils.data.DataLoader(data_train, batch_size=batch_size,\n",
    "                                                 sampler=val_sampler,)\n",
    "\n",
    "    return train_loader,val_loader"
   ]
  },
  {
   "cell_type": "code",
   "execution_count": 48,
   "id": "royal-article",
   "metadata": {},
   "outputs": [
    {
     "name": "stdout",
     "output_type": "stream",
     "text": [
      "17\n"
     ]
    }
   ],
   "source": [
    "train_loader, val_loader = sempler(brain_train, split=0.2)\n",
    "\n",
    "test_loader = torch.utils.data.DataLoader(brain_test, batch_size=4,\n",
    "                                                   shuffle=True)"
   ]
  },
  {
   "cell_type": "code",
   "execution_count": 22,
   "id": "caroline-magnet",
   "metadata": {},
   "outputs": [],
   "source": [
    "# FGSM attack code\n",
    "def fgsm_attack(image, epsilon, data_grad):\n",
    "    # Collect the element-wise sign of the data gradient\n",
    "    sign_data_grad = data_grad.sign()\n",
    "    # Create the perturbed image by adjusting each pixel of the input image\n",
    "    perturbed_image = image + epsilon*sign_data_grad\n",
    "    # Adding clipping to maintain [0,1] range\n",
    "    perturbed_image = torch.clamp(perturbed_image, 0, 1)\n",
    "    # Return the perturbed image\n",
    "    return perturbed_image"
   ]
  },
  {
   "cell_type": "code",
   "execution_count": 49,
   "id": "differential-packaging",
   "metadata": {},
   "outputs": [],
   "source": [
    "import gc\n",
    "\n",
    "def train_model(model,train_loader,val_loader,loss,optimizer, num_epochs,writer):\n",
    "    loss_history = []\n",
    "    train_history = []\n",
    "    val_history = []\n",
    "    val_loss_hist = []\n",
    "    metric_y_val = metric_p_val = None\n",
    "    \n",
    "    scheduler = lr_scheduler.CosineAnnealingWarmRestarts(optimizer,\n",
    "                                                  T_0=40, \n",
    "                                                  T_mult=2,\n",
    "                                                  eta_min=1e-9)\n",
    "    for epoch in range(num_epochs):\n",
    "        \n",
    "        print(epoch)\n",
    "        model.train()\n",
    "        \n",
    "        correct_samples = 0\n",
    "        total_samples = 0\n",
    "        loss_accum = 0\n",
    "        for i_step, (x, y) in enumerate(train_loader):\n",
    "                \n",
    "                x_gpu = x.to(device=device)\n",
    "                y_gpu = y.to(device=device)\n",
    "                \n",
    "                prediction = model(x_gpu)\n",
    "                loss_value = loss(prediction, y_gpu.reshape((-1,)))\n",
    "                _, preds = torch.max(prediction, 1)\n",
    "                \n",
    "\n",
    "                optimizer.zero_grad()\n",
    "                loss_value.backward()\n",
    "                optimizer.step()\n",
    "                \n",
    "                \n",
    "                if i_step == 0 and epoch == 0:\n",
    "                    metric_y = y_gpu.reshape((-1,)).cpu().numpy()\n",
    "                    metric_p = preds.cpu().numpy()\n",
    "                else:\n",
    "                    metric_y = np.concatenate((metric_y, y_gpu.reshape((-1,)).cpu().numpy()))\n",
    "                    metric_p = np.concatenate((metric_p, preds.cpu().numpy())) \n",
    "                    \n",
    "                correct_samples += torch.sum(preds == y_gpu.reshape((-1,)))\n",
    "                loss_accum += loss_value\n",
    "                \n",
    "                total_samples += y_gpu.shape[0]\n",
    "                del x_gpu\n",
    "                del y_gpu\n",
    "                #gc.collect()\n",
    "        \n",
    "        \n",
    "        ave_loss = loss_accum / (i_step + 1)\n",
    "        train_accuracy = correct_samples / total_samples\n",
    "        writer.add_scalar(\"Loss/train\", ave_loss, epoch)\n",
    "        writer.add_scalar(\"Acc/train\", train_accuracy, epoch)\n",
    "        writer.add_scalar(\"F1/train\", f1_score(metric_y,metric_p), epoch)\n",
    "\n",
    "        val_accuracy, loss_val,metric_y_val, metric_p_val = compute_valid(model, val_loader, loss, epoch,metric_y_val, metric_p_val)\n",
    "        writer.add_scalar(\"Loss/valid\", loss_val, epoch)\n",
    "        writer.add_scalar(\"Acc/valid\", val_accuracy, epoch)\n",
    "        writer.add_scalar(\"F1/valid\", f1_score(metric_y_val,metric_p_val), epoch)\n",
    "        \n",
    "        writer.add_scalar(\"Lr/epoch\", scheduler.get_last_lr()[-1], epoch)\n",
    "        scheduler.step(epoch)\n",
    "        \n",
    "        loss_history.append(float(ave_loss))\n",
    "        train_history.append(train_accuracy)\n",
    "        val_history.append(val_accuracy)\n",
    "        val_loss_hist.append(loss_val)\n",
    "\n",
    "        print(\"Average loss: %f, Val loss: %f, Train accuracy: %f, Val accuracy: %f, Train AP: %f,Val AP: %f\" % (ave_loss,loss_val, train_accuracy, val_accuracy,average_precision_score(metric_y,metric_p),average_precision_score(metric_y_val,metric_p_val)))\n",
    "        \n",
    "        print('Epoch:', epoch, 'LR:', scheduler.get_last_lr())\n",
    "\n",
    "def compute_valid(model, loader, loss,epoch, metric_y= None, metric_p=None):\n",
    "    model.eval()\n",
    "    with torch.no_grad():\n",
    "        correct_samples = 0\n",
    "        total_samples = 0\n",
    "        loss_accum = 0\n",
    "        \n",
    "        for i_step, (x, y) in enumerate(loader):\n",
    "            x_gpu = x.to(device=device, dtype=torch.float)\n",
    "            y_gpu = y.to(device=device,)\n",
    "\n",
    "            prediction = model(x_gpu)\n",
    "            loss_value = loss(prediction, y_gpu.reshape((-1,)))\n",
    "            _, preds = torch.max(prediction, 1)\n",
    "            \n",
    "            \n",
    "            if i_step == 0 and epoch == 0:\n",
    "                metric_y = y_gpu.reshape((-1,)).cpu().numpy()\n",
    "                metric_p = preds.cpu().numpy()\n",
    "            else:\n",
    "                metric_y = np.concatenate((metric_y, y_gpu.reshape((-1,)).cpu().numpy()))\n",
    "                metric_p = np.concatenate((metric_p, preds.cpu().numpy())) \n",
    "            \n",
    "            \n",
    "            correct_samples += torch.sum(preds == y_gpu.reshape((-1,)))\n",
    "            total_samples += y_gpu.shape[0]\n",
    "            loss_accum += loss_value\n",
    "\n",
    "            del x_gpu\n",
    "            del y_gpu\n",
    "                \n",
    "        loss_val = loss_accum / (i_step + 1)\n",
    "        val_accuracy = correct_samples / total_samples\n",
    "        return val_accuracy, loss_val, metric_y, metric_p"
   ]
  },
  {
   "cell_type": "code",
   "execution_count": 46,
   "id": "treated-tract",
   "metadata": {},
   "outputs": [],
   "source": [
    "import torch\n",
    "import torch.nn as nn\n",
    "\n",
    "\"\"\"\n",
    "Changed 2d to 3d\n",
    "https://github.com/pytorch/vision/blob/master/torchvision/models/resnet.py\n",
    "\"\"\"\n",
    "\n",
    "\n",
    "def conv3x3(in_planes, out_planes, stride=1, groups=1, dilation=1):\n",
    "    \"\"\"3x3 convolution with padding\"\"\"\n",
    "    return nn.Conv3d(in_planes, out_planes, kernel_size=3, stride=stride,\n",
    "                     padding=dilation, groups=groups, bias=False, dilation=dilation)\n",
    "\n",
    "\n",
    "def conv1x1(in_planes, out_planes, stride=1):\n",
    "    \"\"\"1x1 convolution\"\"\"\n",
    "    return nn.Conv3d(in_planes, out_planes, kernel_size=1, stride=stride, bias=False)\n",
    "\n",
    "\n",
    "class BasicBlock(nn.Module):\n",
    "    expansion = 1\n",
    "\n",
    "    def __init__(self, inplanes, planes, stride=1, downsample=None, groups=1,\n",
    "                 base_width=64, dilation=1, norm_layer=None):\n",
    "        super(BasicBlock, self).__init__()\n",
    "        if norm_layer is None:\n",
    "            norm_layer = nn.BatchNorm3d\n",
    "            #pass\n",
    "        if groups != 1 or base_width != 64:\n",
    "            raise ValueError('BasicBlock only supports groups=1 and base_width=64')\n",
    "        if dilation > 1:\n",
    "            raise NotImplementedError(\"Dilation > 1 not supported in BasicBlock\")\n",
    "        # Both self.conv1 and self.downsample layers downsample the input when stride != 1\n",
    "        self.conv1 = conv3x3(inplanes, planes, stride)\n",
    "        self.bn1 = norm_layer(planes)\n",
    "        self.relu = nn.ReLU6(inplace=True)\n",
    "        #self.dp1 = nn.Dropout(0.2)\n",
    "        self.conv2 = conv3x3(planes, planes)\n",
    "        self.bn2 = norm_layer(planes)\n",
    "        self.downsample = downsample\n",
    "        self.stride = stride\n",
    "\n",
    "    def forward(self, x):\n",
    "        identity = x\n",
    "\n",
    "        out = self.conv1(x)\n",
    "        out = self.bn1(out)\n",
    "        out = self.relu(out)\n",
    "        #out = self.dp1(out)\n",
    "\n",
    "        out = self.conv2(out)\n",
    "        out = self.bn2(out)\n",
    "\n",
    "        if self.downsample is not None:\n",
    "            identity = self.downsample(x)\n",
    "\n",
    "        out += identity\n",
    "        out = self.relu(out)\n",
    "\n",
    "        return out\n",
    "\n",
    "\n",
    "class Bottleneck(nn.Module):\n",
    "    # Bottleneck in torchvision places the stride for downsampling at 3x3 convolution(self.conv2)\n",
    "    # while original implementation places the stride at the first 1x1 convolution(self.conv1)\n",
    "    # according to \"Deep residual learning for image recognition\"https://arxiv.org/abs/1512.03385.\n",
    "    # This variant is also known as ResNet V1.5 and improves accuracy according to\n",
    "    # https://ngc.nvidia.com/catalog/model-scripts/nvidia:resnet_50_v1_5_for_pytorch.\n",
    "\n",
    "    expansion = 4\n",
    "\n",
    "    def __init__(self, inplanes, planes, stride=1, downsample=None, groups=1,\n",
    "                 base_width=64, dilation=1, norm_layer=None):\n",
    "        super(Bottleneck, self).__init__()\n",
    "        if norm_layer is None:\n",
    "            norm_layer = nn.BatchNorm3d\n",
    "            #pass\n",
    "        width = int(planes * (base_width / 64.)) * groups\n",
    "        # Both self.conv2 and self.downsample layers downsample the input when stride != 1\n",
    "        self.conv1 = conv1x1(inplanes, width)\n",
    "        self.bn1 = norm_layer(width)\n",
    "        self.conv2 = conv3x3(width, width, stride, groups, dilation)\n",
    "        self.bn2 = norm_layer(width)\n",
    "        self.conv3 = conv1x1(width, planes * self.expansion)\n",
    "        self.bn3 = norm_layer(planes * self.expansion)\n",
    "        self.relu = nn.ReLU6(inplace=True)\n",
    "        #self.dp1 = nn.Dropout(0.2)\n",
    "        self.downsample = downsample\n",
    "        self.stride = stride\n",
    "\n",
    "    def forward(self, x):\n",
    "        identity = x\n",
    "\n",
    "        out = self.conv1(x)\n",
    "        out = self.bn1(out)\n",
    "        out = self.relu(out)\n",
    "\n",
    "        out = self.conv2(out)\n",
    "        out = self.bn2(out)\n",
    "        out = self.relu(out)\n",
    "\n",
    "        out = self.conv3(out)\n",
    "        out = self.bn3(out)\n",
    "\n",
    "        if self.downsample is not None:\n",
    "            identity = self.downsample(x)\n",
    "\n",
    "        out += identity\n",
    "        out = self.relu(out)\n",
    "        out = self.dp1(out)\n",
    "\n",
    "        return out\n",
    "\n",
    "\n",
    "class ResNet(nn.Module):\n",
    "\n",
    "    def __init__(self, block, layers, num_classes=1000, zero_init_residual=False,\n",
    "                 groups=1, width_per_group=64, replace_stride_with_dilation=None,\n",
    "                 norm_layer=None):\n",
    "        super(ResNet, self).__init__()\n",
    "        if norm_layer is None:\n",
    "            norm_layer = nn.BatchNorm3d\n",
    "            #pass\n",
    "        self._norm_layer = norm_layer\n",
    "\n",
    "        self.inplanes = 64\n",
    "        self.dilation = 1\n",
    "        if replace_stride_with_dilation is None:\n",
    "            # each element in the tuple indicates if we should replace\n",
    "            # the 2x2 stride with a dilated convolution instead\n",
    "            replace_stride_with_dilation = [False, False, False]\n",
    "        if len(replace_stride_with_dilation) != 3:\n",
    "            raise ValueError(\"replace_stride_with_dilation should be None \"\n",
    "                             \"or a 3-element tuple, got {}\".format(replace_stride_with_dilation))\n",
    "        self.groups = groups\n",
    "        self.base_width = width_per_group\n",
    "        self.conv1 = nn.Conv3d(3, self.inplanes, kernel_size=7, stride=2, padding=3,\n",
    "                               bias=False)\n",
    "        self.bn1 = norm_layer(self.inplanes)\n",
    "        self.relu = nn.ReLU6(inplace=True)\n",
    "        #self.dp1 = nn.Dropout(0.15)\n",
    "        self.maxpool = nn.MaxPool3d(kernel_size=3, stride=2, padding=1)\n",
    "        self.layer1 = self._make_layer(block, 64, layers[0])\n",
    "        self.layer2 = self._make_layer(block, 128, layers[1], stride=2,\n",
    "                                       dilate=replace_stride_with_dilation[0])\n",
    "        #self.layer3 = self._make_layer(block, 256, layers[2], stride=2,\n",
    "                                       #dilate=replace_stride_with_dilation[1])\n",
    "        #self.layer4 = self._make_layer(block, 512, layers[3], stride=2,\n",
    "                                       #dilate=replace_stride_with_dilation[2])\n",
    "        self.avgpool = nn.AdaptiveAvgPool3d((1, 1, 1))\n",
    "        self.fc = nn.Linear(128 * block.expansion, num_classes)\n",
    "#         self.softmax = nn.Softmax()\n",
    "\n",
    "        for m in self.modules():\n",
    "            if isinstance(m, nn.Conv3d):\n",
    "                nn.init.kaiming_normal_(m.weight, mode='fan_out', nonlinearity='relu')\n",
    "            elif isinstance(m, (nn.BatchNorm3d, nn.GroupNorm)):\n",
    "                nn.init.constant_(m.weight, 1)\n",
    "                nn.init.constant_(m.bias, 0)\n",
    "\n",
    "        # Zero-initialize the last BN in each residual branch,\n",
    "        # so that the residual branch starts with zeros, and each residual block behaves like an identity.\n",
    "        # This improves the model by 0.2~0.3% according to https://arxiv.org/abs/1706.02677\n",
    "        if zero_init_residual:\n",
    "            for m in self.modules():\n",
    "                if isinstance(m, Bottleneck):\n",
    "                    nn.init.constant_(m.bn3.weight, 0)\n",
    "                elif isinstance(m, BasicBlock):\n",
    "                    nn.init.constant_(m.bn2.weight, 0)\n",
    "\n",
    "    def _make_layer(self, block, planes, blocks, stride=1, dilate=False):\n",
    "        norm_layer = self._norm_layer\n",
    "        downsample = None\n",
    "        previous_dilation = self.dilation\n",
    "        if dilate:\n",
    "            self.dilation *= stride\n",
    "            stride = 1\n",
    "        if stride != 1 or self.inplanes != planes * block.expansion:\n",
    "            downsample = nn.Sequential(\n",
    "                conv1x1(self.inplanes, planes * block.expansion, stride),\n",
    "#                 norm_layer(planes * block.expansion),\n",
    "            )\n",
    "\n",
    "        layers = []\n",
    "        layers.append(block(self.inplanes, planes, stride, downsample, self.groups,\n",
    "                            self.base_width, previous_dilation,  norm_layer))\n",
    "                            # self.base_width, previous_dilation))\n",
    "        self.inplanes = planes * block.expansion\n",
    "        for _ in range(1, blocks):\n",
    "            layers.append(block(self.inplanes, planes, groups=self.groups,\n",
    "                                base_width=self.base_width, dilation=self.dilation,\n",
    "                                norm_layer=norm_layer))\n",
    "                                # ))\n",
    "\n",
    "        return nn.Sequential(*layers)\n",
    "\n",
    "    def _forward_impl(self, x):\n",
    "        # See note [TorchScript super()]\n",
    "        x = self.conv1(x)\n",
    "        #x = self.bn1(x)\n",
    "        x = self.relu(x)\n",
    "        #x = self.dp1(x)\n",
    "        x = self.maxpool(x)\n",
    "\n",
    "        x = self.layer1(x)\n",
    "        x = self.layer2(x)\n",
    "        # x = self.layer3(x)\n",
    "        # x = self.layer4(x)\n",
    "\n",
    "        x = self.avgpool(x)\n",
    "        x = torch.flatten(x, 1)\n",
    "        # print(x.shape)\n",
    "        x = self.fc(x)\n",
    "#         x = self.softmax(x)\n",
    "\n",
    "        return x\n",
    "\n",
    "    def forward(self, x):\n",
    "        return self._forward_impl(x)\n",
    "\n",
    "\n",
    "def _resnet(arch, block, layers, pretrained, progress, **kwargs):\n",
    "    model = ResNet(block, layers, **kwargs)\n",
    "    if pretrained:\n",
    "        model_dict = model.state_dict()\n",
    "        pretrained_dict = load_state_dict_from_url(\"https://download.pytorch.org/models/resnet18-f37072fd.pth\")\n",
    "        pretrained_dict = {k: v for k, v in pretrained_dict.items() if k in model_dict}\n",
    "        model_dict.update(pretrained_dict) \n",
    "        dell = []\n",
    "        for key in pretrained_dict.keys():\n",
    "            size = pretrained_dict.get(key).size()\n",
    "            if len(size) > 2:\n",
    "                k = pretrained_dict.get(key)\n",
    "                temp = k[0][0][0]\n",
    "                k = k.unsqueeze(4)\n",
    "                k = k.repeat(1,1,1,1,size[-1])\n",
    "                k[0][0][0][0] = temp\n",
    "                pretrained_dict[key] = k\n",
    "            if (key.find(\"fc\") != -1 and len(size) > 1):\n",
    "                k = pretrained_dict.get(key)\n",
    "                k = k.reshape([1000,128,4])\n",
    "                k = k.mean(2)\n",
    "                pretrained_dict[key] = k       \n",
    "        model.load_state_dict(pretrained_dict)\n",
    "    return model\n",
    "\n",
    "\n",
    "def resnet18(pretrained=False, progress=True, **kwargs):\n",
    "    r\"\"\"ResNet-18 model from\n",
    "    `\"Deep Residual Learning for Image Recognition\" <https://arxiv.org/pdf/1512.03385.pdf>`_\n",
    "\n",
    "    Args:\n",
    "        pretrained (bool): If True, returns a model pre-trained on ImageNet\n",
    "        progress (bool): If True, displays a progress bar of the download to stderr\n",
    "    \"\"\"\n",
    "    return _resnet('resnet18', BasicBlock, [1, 1, 1, 1], pretrained, progress,\n",
    "                   **kwargs)\n",
    "\n",
    "\n",
    "def resnet34(pretrained=False, progress=True, **kwargs):\n",
    "    r\"\"\"ResNet-34 model from\n",
    "    `\"Deep Residual Learning for Image Recognition\" <https://arxiv.org/pdf/1512.03385.pdf>`_\n",
    "\n",
    "    Args:\n",
    "        pretrained (bool): If True, returns a model pre-trained on ImageNet\n",
    "        progress (bool): If True, displays a progress bar of the download to stderr\n",
    "    \"\"\"\n",
    "    return _resnet('resnet34', BasicBlock, [3, 4, 6, 3], pretrained, progress,\n",
    "                   **kwargs)\n",
    "\n",
    "\n",
    "def resnet50(pretrained=False, progress=True, **kwargs):\n",
    "    r\"\"\"ResNet-50 model from\n",
    "    `\"Deep Residual Learning for Image Recognition\" <https://arxiv.org/pdf/1512.03385.pdf>`_\n",
    "\n",
    "    Args:\n",
    "        pretrained (bool): If True, returns a model pre-trained on ImageNet\n",
    "        progress (bool): If True, displays a progress bar of the download to stderr\n",
    "    \"\"\"\n",
    "    return _resnet('resnet50', Bottleneck, [3, 4, 6, 3], pretrained, progress,\n",
    "                   **kwargs)\n",
    "\n",
    "\n",
    "def resnet101(pretrained=False, progress=True, **kwargs):\n",
    "    r\"\"\"ResNet-101 model from\n",
    "    `\"Deep Residual Learning for Image Recognition\" <https://arxiv.org/pdf/1512.03385.pdf>`_\n",
    "\n",
    "    Args:\n",
    "        pretrained (bool): If True, returns a model pre-trained on ImageNet\n",
    "        progress (bool): If True, displays a progress bar of the download to stderr\n",
    "    \"\"\"\n",
    "    return _resnet('resnet101', Bottleneck, [3, 4, 23, 3], pretrained, progress,\n",
    "                   **kwargs)\n",
    "\n",
    "\n",
    "def resnet152(pretrained=False, progress=True, **kwargs):\n",
    "    r\"\"\"ResNet-152 model from\n",
    "    `\"Deep Residual Learning for Image Recognition\" <https://arxiv.org/pdf/1512.03385.pdf>`_\n",
    "\n",
    "    Args:\n",
    "        pretrained (bool): If True, returns a model pre-trained on ImageNet\n",
    "        progress (bool): If True, displays a progress bar of the download to stderr\n",
    "    \"\"\"\n",
    "    return _resnet('resnet152', Bottleneck, [3, 8, 36, 3], pretrained, progress,\n",
    "                   **kwargs)\n",
    "\n",
    "\n",
    "def resnext50_32x4d(pretrained=False, progress=True, **kwargs):\n",
    "    r\"\"\"ResNeXt-50 32x4d model from\n",
    "    `\"Aggregated Residual Transformation for Deep Neural Networks\" <https://arxiv.org/pdf/1611.05431.pdf>`_\n",
    "\n",
    "    Args:\n",
    "        pretrained (bool): If True, returns a model pre-trained on ImageNet\n",
    "        progress (bool): If True, displays a progress bar of the download to stderr\n",
    "    \"\"\"\n",
    "    kwargs['groups'] = 32\n",
    "    kwargs['width_per_group'] = 4\n",
    "    return _resnet('resnext50_32x4d', Bottleneck, [3, 4, 6, 3],\n",
    "                   pretrained, progress, **kwargs)\n",
    "\n",
    "\n",
    "def resnext101_32x8d(pretrained=False, progress=True, **kwargs):\n",
    "    r\"\"\"ResNeXt-101 32x8d model from\n",
    "    `\"Aggregated Residual Transformation for Deep Neural Networks\" <https://arxiv.org/pdf/1611.05431.pdf>`_\n",
    "\n",
    "    Args:\n",
    "        pretrained (bool): If True, returns a model pre-trained on ImageNet\n",
    "        progress (bool): If True, displays a progress bar of the download to stderr\n",
    "    \"\"\"\n",
    "    kwargs['groups'] = 32\n",
    "    kwargs['width_per_group'] = 8\n",
    "    return _resnet('resnext101_32x8d', Bottleneck, [3, 4, 23, 3],\n",
    "                   pretrained, progress, **kwargs)\n",
    "\n",
    "\n",
    "def wide_resnet50_2(pretrained=False, progress=True, **kwargs):\n",
    "    r\"\"\"Wide ResNet-50-2 model from\n",
    "    `\"Wide Residual Networks\" <https://arxiv.org/pdf/1605.07146.pdf>`_\n",
    "\n",
    "    The model is the same as ResNet except for the bottleneck number of channels\n",
    "    which is twice larger in every block. The number of channels in outer 1x1\n",
    "    convolutions is the same, e.g. last block in ResNet-50 has 2048-512-2048\n",
    "    channels, and in Wide ResNet-50-2 has 2048-1024-2048.\n",
    "\n",
    "    Args:\n",
    "        pretrained (bool): If True, returns a model pre-trained on ImageNet\n",
    "        progress (bool): If True, displays a progress bar of the download to stderr\n",
    "    \"\"\"\n",
    "    kwargs['width_per_group'] = 64 * 2\n",
    "    return _resnet('wide_resnet50_2', Bottleneck, [3, 4, 6, 3],\n",
    "                   pretrained, progress, **kwargs)\n",
    "\n",
    "\n",
    "def wide_resnet101_2(pretrained=False, progress=True, **kwargs):\n",
    "    r\"\"\"Wide ResNet-101-2 model from\n",
    "    `\"Wide Residual Networks\" <https://arxiv.org/pdf/1605.07146.pdf>`_\n",
    "\n",
    "    The model is the same as ResNet except for the bottleneck number of channels\n",
    "    which is twice larger in every block. The number of channels in outer 1x1\n",
    "    convolutions is the same, e.g. last block in ResNet-50 has 2048-512-2048\n",
    "    channels, and in Wide ResNet-50-2 has 2048-1024-2048.\n",
    "\n",
    "    Args:\n",
    "        pretrained (bool): If True, returns a model pre-trained on ImageNet\n",
    "        progress (bool): If True, displays a progress bar of the download to stderr\n",
    "    \"\"\"\n",
    "    kwargs['width_per_group'] = 64 * 2\n",
    "    return _resnet('wide_resnet101_2', Bottleneck, [3, 4, 23, 3],\n",
    "                   pretrained, progress, **kwargs)\n",
    "\n"
   ]
  },
  {
   "cell_type": "code",
   "execution_count": 3,
   "id": "unable-award",
   "metadata": {},
   "outputs": [],
   "source": [
    "def init_weights(m):\n",
    "    if type(m) == nn.Linear:\n",
    "        torch.nn.init.xavier_uniform_(m.weight)\n",
    "        m.bias.data.fill_(0.01)\n"
   ]
  },
  {
   "cell_type": "code",
   "execution_count": 49,
   "id": "italian-museum",
   "metadata": {},
   "outputs": [
    {
     "data": {
      "text/plain": [
       "ResNet(\n",
       "  (conv1): Conv3d(3, 64, kernel_size=(7, 7, 7), stride=(2, 2, 2), padding=(3, 3, 3), bias=False)\n",
       "  (bn1): BatchNorm3d(64, eps=1e-05, momentum=0.1, affine=True, track_running_stats=True)\n",
       "  (relu): ReLU6(inplace=True)\n",
       "  (maxpool): MaxPool3d(kernel_size=3, stride=2, padding=1, dilation=1, ceil_mode=False)\n",
       "  (layer1): Sequential(\n",
       "    (0): BasicBlock(\n",
       "      (conv1): Conv3d(64, 64, kernel_size=(3, 3, 3), stride=(1, 1, 1), padding=(1, 1, 1), bias=False)\n",
       "      (bn1): BatchNorm3d(64, eps=1e-05, momentum=0.1, affine=True, track_running_stats=True)\n",
       "      (relu): ReLU6(inplace=True)\n",
       "      (conv2): Conv3d(64, 64, kernel_size=(3, 3, 3), stride=(1, 1, 1), padding=(1, 1, 1), bias=False)\n",
       "      (bn2): BatchNorm3d(64, eps=1e-05, momentum=0.1, affine=True, track_running_stats=True)\n",
       "    )\n",
       "  )\n",
       "  (layer2): Sequential(\n",
       "    (0): BasicBlock(\n",
       "      (conv1): Conv3d(64, 128, kernel_size=(3, 3, 3), stride=(2, 2, 2), padding=(1, 1, 1), bias=False)\n",
       "      (bn1): BatchNorm3d(128, eps=1e-05, momentum=0.1, affine=True, track_running_stats=True)\n",
       "      (relu): ReLU6(inplace=True)\n",
       "      (conv2): Conv3d(128, 128, kernel_size=(3, 3, 3), stride=(1, 1, 1), padding=(1, 1, 1), bias=False)\n",
       "      (bn2): BatchNorm3d(128, eps=1e-05, momentum=0.1, affine=True, track_running_stats=True)\n",
       "      (downsample): Sequential(\n",
       "        (0): Conv3d(64, 128, kernel_size=(1, 1, 1), stride=(2, 2, 2), bias=False)\n",
       "      )\n",
       "    )\n",
       "  )\n",
       "  (avgpool): AdaptiveAvgPool3d(output_size=(1, 1, 1))\n",
       "  (fc): Sequential(\n",
       "    (0): Linear(in_features=128, out_features=2, bias=True)\n",
       "  )\n",
       ")"
      ]
     },
     "execution_count": 49,
     "metadata": {},
     "output_type": "execute_result"
    }
   ],
   "source": [
    "model = resnet18(pretrained=True)\n",
    "model.fc = nn.Sequential(\n",
    "                         nn.Linear(128, 2),\n",
    "                        )\n",
    "model"
   ]
  },
  {
   "cell_type": "code",
   "execution_count": 48,
   "id": "nearby-occupation",
   "metadata": {
    "scrolled": true
   },
   "outputs": [
    {
     "name": "stderr",
     "output_type": "stream",
     "text": [
      "\r",
      "0it [00:00, ?it/s]"
     ]
    },
    {
     "name": "stdout",
     "output_type": "stream",
     "text": [
      "0\n"
     ]
    },
    {
     "name": "stderr",
     "output_type": "stream",
     "text": [
      "26it [01:02,  2.39s/it]\n",
      "0it [00:00, ?it/s]"
     ]
    },
    {
     "name": "stdout",
     "output_type": "stream",
     "text": [
      "Average loss: 0.351947, Val loss: 0.642831, Train accuracy: 0.509901, Val accuracy: 0.720000, Train AP: 0.513969,Val AP: 0.502222\n",
      "Epoch: 0 LR: [0.0001]\n",
      "1\n"
     ]
    },
    {
     "name": "stderr",
     "output_type": "stream",
     "text": [
      "26it [01:02,  2.39s/it]\n",
      "0it [00:00, ?it/s]"
     ]
    },
    {
     "name": "stdout",
     "output_type": "stream",
     "text": [
      "Average loss: 0.333245, Val loss: 0.653087, Train accuracy: 0.628713, Val accuracy: 0.600000, Train AP: 0.553133,Val AP: 0.452398\n",
      "Epoch: 1 LR: [9.984586822798955e-05]\n",
      "2\n"
     ]
    },
    {
     "name": "stderr",
     "output_type": "stream",
     "text": [
      "26it [01:02,  2.39s/it]\n",
      "0it [00:00, ?it/s]"
     ]
    },
    {
     "name": "stdout",
     "output_type": "stream",
     "text": [
      "Average loss: 0.322134, Val loss: 0.587606, Train accuracy: 0.707921, Val accuracy: 0.800000, Train AP: 0.585507,Val AP: 0.493333\n",
      "Epoch: 2 LR: [9.93844231855866e-05]\n",
      "3\n"
     ]
    },
    {
     "name": "stderr",
     "output_type": "stream",
     "text": [
      "26it [01:02,  2.39s/it]\n",
      "0it [00:00, ?it/s]"
     ]
    },
    {
     "name": "stdout",
     "output_type": "stream",
     "text": [
      "Average loss: 0.311604, Val loss: 0.541279, Train accuracy: 0.722772, Val accuracy: 0.680000, Train AP: 0.605638,Val AP: 0.476706\n",
      "Epoch: 3 LR: [9.861850983492364e-05]\n",
      "4\n"
     ]
    },
    {
     "name": "stderr",
     "output_type": "stream",
     "text": [
      "26it [01:02,  2.39s/it]\n",
      "0it [00:00, ?it/s]"
     ]
    },
    {
     "name": "stdout",
     "output_type": "stream",
     "text": [
      "Average loss: 0.297151, Val loss: 0.497016, Train accuracy: 0.767327, Val accuracy: 0.680000, Train AP: 0.627046,Val AP: 0.466781\n",
      "Epoch: 4 LR: [9.755285028649954e-05]\n",
      "5\n"
     ]
    },
    {
     "name": "stderr",
     "output_type": "stream",
     "text": [
      "26it [01:02,  2.40s/it]\n",
      "0it [00:00, ?it/s]"
     ]
    },
    {
     "name": "stdout",
     "output_type": "stream",
     "text": [
      "Average loss: 0.297551, Val loss: 0.758883, Train accuracy: 0.712871, Val accuracy: 0.440000, Train AP: 0.634243,Val AP: 0.439615\n",
      "Epoch: 5 LR: [9.619401468579809e-05]\n",
      "6\n"
     ]
    },
    {
     "name": "stderr",
     "output_type": "stream",
     "text": [
      "26it [01:02,  2.40s/it]\n",
      "0it [00:00, ?it/s]"
     ]
    },
    {
     "name": "stdout",
     "output_type": "stream",
     "text": [
      "Average loss: 0.303418, Val loss: 0.602747, Train accuracy: 0.722772, Val accuracy: 0.600000, Train AP: 0.639618,Val AP: 0.441804\n",
      "Epoch: 6 LR: [9.45503807061563e-05]\n",
      "7\n"
     ]
    },
    {
     "name": "stderr",
     "output_type": "stream",
     "text": [
      "26it [01:02,  2.40s/it]\n",
      "0it [00:00, ?it/s]"
     ]
    },
    {
     "name": "stdout",
     "output_type": "stream",
     "text": [
      "Average loss: 0.284003, Val loss: 0.667202, Train accuracy: 0.787129, Val accuracy: 0.440000, Train AP: 0.650369,Val AP: 0.430340\n",
      "Epoch: 7 LR: [9.263208189762244e-05]\n",
      "8\n"
     ]
    },
    {
     "name": "stderr",
     "output_type": "stream",
     "text": [
      "26it [01:02,  2.40s/it]\n",
      "0it [00:00, ?it/s]"
     ]
    },
    {
     "name": "stdout",
     "output_type": "stream",
     "text": [
      "Average loss: 0.304079, Val loss: 0.640114, Train accuracy: 0.742574, Val accuracy: 0.520000, Train AP: 0.653398,Val AP: 0.427931\n",
      "Epoch: 8 LR: [9.045094521025019e-05]\n",
      "9\n"
     ]
    },
    {
     "name": "stderr",
     "output_type": "stream",
     "text": [
      "26it [01:02,  2.40s/it]\n",
      "0it [00:00, ?it/s]"
     ]
    },
    {
     "name": "stdout",
     "output_type": "stream",
     "text": [
      "Average loss: 0.282105, Val loss: 0.496127, Train accuracy: 0.747525, Val accuracy: 0.800000, Train AP: 0.656379,Val AP: 0.438995\n",
      "Epoch: 9 LR: [8.802041807701875e-05]\n",
      "10\n"
     ]
    },
    {
     "name": "stderr",
     "output_type": "stream",
     "text": [
      "26it [01:02,  2.40s/it]\n",
      "0it [00:00, ?it/s]"
     ]
    },
    {
     "name": "stdout",
     "output_type": "stream",
     "text": [
      "Average loss: 0.285073, Val loss: 0.511185, Train accuracy: 0.767327, Val accuracy: 0.800000, Train AP: 0.661471,Val AP: 0.450223\n",
      "Epoch: 10 LR: [8.535548550593679e-05]\n",
      "11\n"
     ]
    },
    {
     "name": "stderr",
     "output_type": "stream",
     "text": [
      "26it [01:02,  2.40s/it]\n",
      "0it [00:00, ?it/s]"
     ]
    },
    {
     "name": "stdout",
     "output_type": "stream",
     "text": [
      "Average loss: 0.289272, Val loss: 0.537835, Train accuracy: 0.772277, Val accuracy: 0.680000, Train AP: 0.665881,Val AP: 0.455437\n",
      "Epoch: 11 LR: [8.247257769248503e-05]\n",
      "12\n"
     ]
    },
    {
     "name": "stderr",
     "output_type": "stream",
     "text": [
      "26it [01:02,  2.40s/it]\n",
      "0it [00:00, ?it/s]"
     ]
    },
    {
     "name": "stdout",
     "output_type": "stream",
     "text": [
      "Average loss: 0.279381, Val loss: 0.639272, Train accuracy: 0.787129, Val accuracy: 0.600000, Train AP: 0.670810,Val AP: 0.455484\n",
      "Epoch: 12 LR: [7.938946872199752e-05]\n",
      "13\n"
     ]
    },
    {
     "name": "stderr",
     "output_type": "stream",
     "text": [
      "26it [01:02,  2.40s/it]\n",
      "0it [00:00, ?it/s]"
     ]
    },
    {
     "name": "stdout",
     "output_type": "stream",
     "text": [
      "Average loss: 0.267442, Val loss: 0.938666, Train accuracy: 0.777228, Val accuracy: 0.440000, Train AP: 0.674542,Val AP: 0.448909\n",
      "Epoch: 13 LR: [7.612516698651509e-05]\n",
      "14\n"
     ]
    },
    {
     "name": "stderr",
     "output_type": "stream",
     "text": [
      "26it [01:02,  2.40s/it]\n",
      "0it [00:00, ?it/s]"
     ]
    },
    {
     "name": "stdout",
     "output_type": "stream",
     "text": [
      "Average loss: 0.268597, Val loss: 0.442991, Train accuracy: 0.797030, Val accuracy: 0.800000, Train AP: 0.678753,Val AP: 0.456444\n",
      "Epoch: 14 LR: [7.269979799172747e-05]\n",
      "15\n"
     ]
    },
    {
     "name": "stderr",
     "output_type": "stream",
     "text": [
      "26it [01:02,  2.40s/it]\n",
      "0it [00:00, ?it/s]"
     ]
    },
    {
     "name": "stdout",
     "output_type": "stream",
     "text": [
      "Average loss: 0.255403, Val loss: 0.463945, Train accuracy: 0.836634, Val accuracy: 0.840000, Train AP: 0.684962,Val AP: 0.465155\n",
      "Epoch: 15 LR: [6.913448027653831e-05]\n",
      "16\n"
     ]
    },
    {
     "name": "stderr",
     "output_type": "stream",
     "text": [
      "26it [01:02,  2.40s/it]\n",
      "0it [00:00, ?it/s]"
     ]
    },
    {
     "name": "stdout",
     "output_type": "stream",
     "text": [
      "Average loss: 0.253881, Val loss: 0.434440, Train accuracy: 0.826733, Val accuracy: 0.760000, Train AP: 0.689622,Val AP: 0.467848\n",
      "Epoch: 16 LR: [6.54511952102502e-05]\n",
      "17\n"
     ]
    },
    {
     "name": "stderr",
     "output_type": "stream",
     "text": [
      "26it [01:02,  2.40s/it]\n",
      "0it [00:00, ?it/s]"
     ]
    },
    {
     "name": "stdout",
     "output_type": "stream",
     "text": [
      "Average loss: 0.259967, Val loss: 0.426251, Train accuracy: 0.792079, Val accuracy: 0.840000, Train AP: 0.692171,Val AP: 0.475531\n",
      "Epoch: 17 LR: [6.167265147011336e-05]\n",
      "18\n"
     ]
    },
    {
     "name": "stderr",
     "output_type": "stream",
     "text": [
      "26it [01:02,  2.40s/it]\n",
      "0it [00:00, ?it/s]"
     ]
    },
    {
     "name": "stdout",
     "output_type": "stream",
     "text": [
      "Average loss: 0.257955, Val loss: 0.413866, Train accuracy: 0.806931, Val accuracy: 0.880000, Train AP: 0.695303,Val AP: 0.485226\n",
      "Epoch: 18 LR: [5.782214503477903e-05]\n",
      "19\n"
     ]
    },
    {
     "name": "stderr",
     "output_type": "stream",
     "text": [
      "26it [01:02,  2.40s/it]\n",
      "0it [00:00, ?it/s]"
     ]
    },
    {
     "name": "stdout",
     "output_type": "stream",
     "text": [
      "Average loss: 0.255613, Val loss: 0.575117, Train accuracy: 0.792079, Val accuracy: 0.760000, Train AP: 0.697400,Val AP: 0.489223\n",
      "Epoch: 19 LR: [5.392341555684439e-05]\n",
      "20\n"
     ]
    },
    {
     "name": "stderr",
     "output_type": "stream",
     "text": [
      "26it [01:02,  2.40s/it]\n",
      "0it [00:00, ?it/s]"
     ]
    },
    {
     "name": "stdout",
     "output_type": "stream",
     "text": [
      "Average loss: 0.262869, Val loss: 0.397417, Train accuracy: 0.801980, Val accuracy: 0.840000, Train AP: 0.699645,Val AP: 0.495444\n",
      "Epoch: 20 LR: [5.0000500000000003e-05]\n",
      "21\n"
     ]
    },
    {
     "name": "stderr",
     "output_type": "stream",
     "text": [
      "26it [01:02,  2.40s/it]\n",
      "0it [00:00, ?it/s]"
     ]
    },
    {
     "name": "stdout",
     "output_type": "stream",
     "text": [
      "Average loss: 0.257109, Val loss: 0.411082, Train accuracy: 0.831683, Val accuracy: 0.840000, Train AP: 0.702953,Val AP: 0.501953\n",
      "Epoch: 21 LR: [4.607758444315563e-05]\n",
      "22\n"
     ]
    },
    {
     "name": "stderr",
     "output_type": "stream",
     "text": [
      "26it [01:02,  2.40s/it]\n",
      "0it [00:00, ?it/s]"
     ]
    },
    {
     "name": "stdout",
     "output_type": "stream",
     "text": [
      "Average loss: 0.257248, Val loss: 0.423653, Train accuracy: 0.831683, Val accuracy: 0.880000, Train AP: 0.705982,Val AP: 0.509641\n",
      "Epoch: 22 LR: [4.217885496522099e-05]\n",
      "23\n"
     ]
    },
    {
     "name": "stderr",
     "output_type": "stream",
     "text": [
      "26it [01:02,  2.39s/it]\n",
      "0it [00:00, ?it/s]"
     ]
    },
    {
     "name": "stdout",
     "output_type": "stream",
     "text": [
      "Average loss: 0.263119, Val loss: 0.429611, Train accuracy: 0.797030, Val accuracy: 0.880000, Train AP: 0.707349,Val AP: 0.516901\n",
      "Epoch: 23 LR: [3.832834852988666e-05]\n",
      "24\n"
     ]
    },
    {
     "name": "stderr",
     "output_type": "stream",
     "text": [
      "26it [01:02,  2.39s/it]\n",
      "0it [00:00, ?it/s]"
     ]
    },
    {
     "name": "stdout",
     "output_type": "stream",
     "text": [
      "Average loss: 0.245503, Val loss: 0.431882, Train accuracy: 0.801980, Val accuracy: 0.840000, Train AP: 0.708720,Val AP: 0.522200\n",
      "Epoch: 24 LR: [3.454980478974983e-05]\n",
      "25\n"
     ]
    },
    {
     "name": "stderr",
     "output_type": "stream",
     "text": [
      "26it [01:02,  2.40s/it]\n",
      "0it [00:00, ?it/s]"
     ]
    },
    {
     "name": "stdout",
     "output_type": "stream",
     "text": [
      "Average loss: 0.265069, Val loss: 0.417916, Train accuracy: 0.792079, Val accuracy: 0.840000, Train AP: 0.709647,Val AP: 0.527182\n",
      "Epoch: 25 LR: [3.08665197234617e-05]\n",
      "26\n"
     ]
    },
    {
     "name": "stderr",
     "output_type": "stream",
     "text": [
      "26it [01:02,  2.39s/it]\n",
      "0it [00:00, ?it/s]"
     ]
    },
    {
     "name": "stdout",
     "output_type": "stream",
     "text": [
      "Average loss: 0.257228, Val loss: 0.380793, Train accuracy: 0.806931, Val accuracy: 0.880000, Train AP: 0.710934,Val AP: 0.533381\n",
      "Epoch: 26 LR: [2.730120200827253e-05]\n",
      "27\n"
     ]
    },
    {
     "name": "stderr",
     "output_type": "stream",
     "text": [
      "26it [01:02,  2.39s/it]\n",
      "0it [00:00, ?it/s]"
     ]
    },
    {
     "name": "stdout",
     "output_type": "stream",
     "text": [
      "Average loss: 0.248399, Val loss: 0.462488, Train accuracy: 0.826733, Val accuracy: 0.880000, Train AP: 0.713106,Val AP: 0.539267\n",
      "Epoch: 27 LR: [2.3875833013484917e-05]\n",
      "28\n"
     ]
    },
    {
     "name": "stderr",
     "output_type": "stream",
     "text": [
      "26it [01:02,  2.40s/it]\n",
      "0it [00:00, ?it/s]"
     ]
    },
    {
     "name": "stdout",
     "output_type": "stream",
     "text": [
      "Average loss: 0.248603, Val loss: 0.373116, Train accuracy: 0.836634, Val accuracy: 0.880000, Train AP: 0.715324,Val AP: 0.544862\n",
      "Epoch: 28 LR: [2.0611531278002494e-05]\n",
      "29\n"
     ]
    },
    {
     "name": "stderr",
     "output_type": "stream",
     "text": [
      "26it [01:02,  2.39s/it]\n",
      "0it [00:00, ?it/s]"
     ]
    },
    {
     "name": "stdout",
     "output_type": "stream",
     "text": [
      "Average loss: 0.247502, Val loss: 0.380570, Train accuracy: 0.851485, Val accuracy: 0.880000, Train AP: 0.717838,Val AP: 0.550187\n",
      "Epoch: 29 LR: [1.7528422307514986e-05]\n",
      "30\n"
     ]
    },
    {
     "name": "stderr",
     "output_type": "stream",
     "text": [
      "26it [01:02,  2.40s/it]\n",
      "0it [00:00, ?it/s]"
     ]
    },
    {
     "name": "stdout",
     "output_type": "stream",
     "text": [
      "Average loss: 0.243644, Val loss: 0.458636, Train accuracy: 0.826733, Val accuracy: 0.880000, Train AP: 0.719320,Val AP: 0.555261\n",
      "Epoch: 30 LR: [1.4645514494063221e-05]\n",
      "31\n"
     ]
    },
    {
     "name": "stderr",
     "output_type": "stream",
     "text": [
      "26it [01:02,  2.39s/it]\n",
      "0it [00:00, ?it/s]"
     ]
    },
    {
     "name": "stdout",
     "output_type": "stream",
     "text": [
      "Average loss: 0.242773, Val loss: 0.379031, Train accuracy: 0.831683, Val accuracy: 0.880000, Train AP: 0.720900,Val AP: 0.560100\n",
      "Epoch: 31 LR: [1.1980581922981255e-05]\n",
      "32\n"
     ]
    },
    {
     "name": "stderr",
     "output_type": "stream",
     "text": [
      "26it [01:02,  2.40s/it]\n",
      "0it [00:00, ?it/s]"
     ]
    },
    {
     "name": "stdout",
     "output_type": "stream",
     "text": [
      "Average loss: 0.241079, Val loss: 0.393254, Train accuracy: 0.846535, Val accuracy: 0.880000, Train AP: 0.722786,Val AP: 0.564720\n",
      "Epoch: 32 LR: [9.550054789749821e-06]\n",
      "33\n"
     ]
    },
    {
     "name": "stderr",
     "output_type": "stream",
     "text": [
      "26it [01:02,  2.40s/it]\n",
      "0it [00:00, ?it/s]"
     ]
    },
    {
     "name": "stdout",
     "output_type": "stream",
     "text": [
      "Average loss: 0.246156, Val loss: 0.349793, Train accuracy: 0.841584, Val accuracy: 0.880000, Train AP: 0.724484,Val AP: 0.569135\n",
      "Epoch: 33 LR: [7.368918102377568e-06]\n",
      "34\n"
     ]
    },
    {
     "name": "stderr",
     "output_type": "stream",
     "text": [
      "26it [01:02,  2.40s/it]\n",
      "0it [00:00, ?it/s]"
     ]
    },
    {
     "name": "stdout",
     "output_type": "stream",
     "text": [
      "Average loss: 0.235787, Val loss: 0.454618, Train accuracy: 0.836634, Val accuracy: 0.880000, Train AP: 0.726106,Val AP: 0.573358\n",
      "Epoch: 34 LR: [5.4506192938437045e-06]\n",
      "35\n"
     ]
    },
    {
     "name": "stderr",
     "output_type": "stream",
     "text": [
      "26it [01:02,  2.40s/it]\n",
      "0it [00:00, ?it/s]"
     ]
    },
    {
     "name": "stdout",
     "output_type": "stream",
     "text": [
      "Average loss: 0.243233, Val loss: 0.562810, Train accuracy: 0.841584, Val accuracy: 0.880000, Train AP: 0.727668,Val AP: 0.577401\n",
      "Epoch: 35 LR: [3.8069853142019187e-06]\n",
      "36\n"
     ]
    },
    {
     "name": "stderr",
     "output_type": "stream",
     "text": [
      "26it [01:02,  2.39s/it]\n",
      "0it [00:00, ?it/s]"
     ]
    },
    {
     "name": "stdout",
     "output_type": "stream",
     "text": [
      "Average loss: 0.223764, Val loss: 0.354858, Train accuracy: 0.881188, Val accuracy: 0.880000, Train AP: 0.730297,Val AP: 0.581276\n",
      "Epoch: 36 LR: [2.4481497135004712e-06]\n",
      "37\n"
     ]
    },
    {
     "name": "stderr",
     "output_type": "stream",
     "text": [
      "26it [01:02,  2.40s/it]\n",
      "0it [00:00, ?it/s]"
     ]
    },
    {
     "name": "stdout",
     "output_type": "stream",
     "text": [
      "Average loss: 0.240486, Val loss: 0.374862, Train accuracy: 0.846535, Val accuracy: 0.880000, Train AP: 0.731696,Val AP: 0.584991\n",
      "Epoch: 37 LR: [1.3824901650763711e-06]\n",
      "38\n"
     ]
    },
    {
     "name": "stderr",
     "output_type": "stream",
     "text": [
      "26it [01:02,  2.40s/it]\n",
      "0it [00:00, ?it/s]"
     ]
    },
    {
     "name": "stdout",
     "output_type": "stream",
     "text": [
      "Average loss: 0.226773, Val loss: 0.392281, Train accuracy: 0.856436, Val accuracy: 0.880000, Train AP: 0.733479,Val AP: 0.588558\n",
      "Epoch: 38 LR: [6.165768144134146e-07]\n",
      "39\n"
     ]
    },
    {
     "name": "stderr",
     "output_type": "stream",
     "text": [
      "26it [01:02,  2.40s/it]\n"
     ]
    },
    {
     "name": "stdout",
     "output_type": "stream",
     "text": [
      "Average loss: 0.246742, Val loss: 0.392633, Train accuracy: 0.856436, Val accuracy: 0.880000, Train AP: 0.735086,Val AP: 0.591984\n",
      "Epoch: 39 LR: [1.5513177201046838e-07]\n",
      "Train\n",
      "Accuracy 0.7912128712871287\n",
      "              precision    recall  f1-score   support\n",
      "\n",
      "         HGG       0.78      0.80      0.79      4000\n",
      "         LGG       0.80      0.79      0.79      4080\n",
      "\n",
      "    accuracy                           0.79      8080\n",
      "   macro avg       0.79      0.79      0.79      8080\n",
      "weighted avg       0.79      0.79      0.79      8080\n",
      "\n",
      "[[3189  811]\n",
      " [ 876 3204]]\n",
      "Jaccard score 0.6550807605806583\n",
      "Valid\n",
      "Accuracy 0.778\n",
      "              precision    recall  f1-score   support\n",
      "\n",
      "         HGG       0.84      0.81      0.82       640\n",
      "         LGG       0.68      0.73      0.70       360\n",
      "\n",
      "    accuracy                           0.78      1000\n",
      "   macro avg       0.76      0.77      0.76      1000\n",
      "weighted avg       0.78      0.78      0.78      1000\n",
      "\n",
      "[[516 124]\n",
      " [ 98 262]]\n",
      "Jaccard score 0.5413223140495868\n"
     ]
    }
   ],
   "source": [
    "model = resnet18(pretrained=True) \n",
    "\n",
    "model.fc = nn.Sequential(\n",
    "                         nn.Linear(128, 2),\n",
    "                        )\n",
    "\"\"\"\n",
    "\n",
    "\"\"\"\n",
    "model = model.to(device)\n",
    "\n",
    "loss = nn.CrossEntropyLoss()\n",
    "optimizer = torch.optim.Adam(model.parameters(), lr = 1e-04, weight_decay = 1e-05)\n",
    "\n",
    "writer = SummaryWriter()\n",
    "model , loss_history, train_history, val_history, val_loss_hist,metric_y_train,metric_p_train,metric_y_val, metric_p_val = train_model(model,train_loader, val_loader, loss, optimizer, 40,writer,epsilon = 0.005)\n",
    "writer.flush()\n",
    "writer.close()\n",
    "\n",
    "\n",
    "torch.save(model.state_dict(), \"BReLu_min_FGSM_v1.pth\")\n",
    "\n",
    "print(\"Train\")\n",
    "print(\"Accuracy {}\".format(accuracy_score(metric_y_train, metric_p_train)))\n",
    "target_names = ['HGG', 'LGG']\n",
    "print(classification_report(metric_y_train,metric_p_train,target_names=target_names))\n",
    "print(confusion_matrix(metric_y_train,metric_p_train))\n",
    "print(\"Jaccard score {}\".format(jaccard_score(metric_y_train,metric_p_train)))\n",
    "\n",
    "\n",
    "\n",
    "\n",
    "print(\"Valid\")\n",
    "print(\"Accuracy {}\".format(accuracy_score(metric_y_val, metric_p_val)))\n",
    "target_names = ['HGG', 'LGG']\n",
    "print(classification_report(metric_y_val, metric_p_val,target_names=target_names))\n",
    "print(confusion_matrix(metric_y_val,metric_p_val))\n",
    "print(\"Jaccard score {}\".format(jaccard_score(metric_y_val,metric_p_val)))\n"
   ]
  },
  {
   "cell_type": "code",
   "execution_count": null,
   "id": "public-picking",
   "metadata": {},
   "outputs": [
    {
     "name": "stdout",
     "output_type": "stream",
     "text": [
      "TensorFlow installation not found - running with reduced feature set.\n",
      "\n",
      "NOTE: Using experimental fast data loading logic. To disable, pass\n",
      "    \"--load_fast=false\" and report issues on GitHub. More details:\n",
      "    https://github.com/tensorflow/tensorboard/issues/4784\n",
      "\n",
      "Serving TensorBoard on localhost; to expose to the network, use a proxy or pass --bind_all\n",
      "TensorBoard 2.5.0 at http://localhost:8880/ (Press CTRL+C to quit)\n"
     ]
    }
   ],
   "source": [
    "!tensorboard --logdir runs --port=8880"
   ]
  },
  {
   "cell_type": "code",
   "execution_count": null,
   "id": "weighted-determination",
   "metadata": {},
   "outputs": [],
   "source": [
    "import gc\n",
    "\n",
    "def pred_test(test_loader,model):\n",
    "    model.eval()\n",
    "    with torch.no_grad():\n",
    "        print('Start predicting....')\n",
    "        for i_step, (x, y) in enumerate(test_loader):\n",
    "            x_gpu = x.to(device)\n",
    "            y_gpu = y.to(device)\n",
    "            prediction = model(x_gpu)\n",
    "            _, preds = torch.max(prediction, 1)\n",
    "            \n",
    "            if i_step == 0:\n",
    "                metric_y = y_gpu.reshape((-1,)).cpu().numpy()\n",
    "                metric_p = preds.cpu().numpy()\n",
    "            else:\n",
    "                metric_y = np.concatenate((metric_y, y_gpu.reshape((-1,)).cpu().numpy()))\n",
    "                metric_p = np.concatenate((metric_p, preds.cpu().numpy())) \n",
    "                        \n",
    "            del x_gpu\n",
    "            del y_gpu\n",
    "            \n",
    "    print('Finish prediction.')\n",
    "    return metric_y , metric_p"
   ]
  },
  {
   "cell_type": "code",
   "execution_count": null,
   "id": "frank-salem",
   "metadata": {},
   "outputs": [],
   "source": [
    "metric_y_val , metric_p_val = pred_test(test_loader,model)\n",
    "\n",
    "print(\"Test\")\n",
    "print(\"Accuracy {}\".format(accuracy_score(metric_y_val, metric_p_val)))\n",
    "target_names = ['HGG', 'LGG']\n",
    "print(classification_report(metric_y_val, metric_p_val,target_names=target_names))\n",
    "print(confusion_matrix(metric_y_val,metric_p_val))\n",
    "print(\"Jaccard score {}\".format(jaccard_score(metric_y_val,metric_p_val)))"
   ]
  },
  {
   "cell_type": "code",
   "execution_count": null,
   "id": "driving-disability",
   "metadata": {},
   "outputs": [],
   "source": [
    "torch.save(model, \"model_true_DP_t_.pth\")"
   ]
  }
 ],
 "metadata": {
  "kernelspec": {
   "display_name": "Python 3",
   "language": "python",
   "name": "python3"
  },
  "language_info": {
   "codemirror_mode": {
    "name": "ipython",
    "version": 3
   },
   "file_extension": ".py",
   "mimetype": "text/x-python",
   "name": "python",
   "nbconvert_exporter": "python",
   "pygments_lexer": "ipython3",
   "version": "3.8.5"
  }
 },
 "nbformat": 4,
 "nbformat_minor": 5
}
